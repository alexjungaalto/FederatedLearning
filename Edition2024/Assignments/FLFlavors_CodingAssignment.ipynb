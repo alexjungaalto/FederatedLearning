{
 "cells": [
  {
   "cell_type": "markdown",
   "id": "72fae605-9fd2-4867-89f9-109d0b01b264",
   "metadata": {},
   "source": [
    "# Assignment \"FL Main Flavors\""
   ]
  },
  {
   "cell_type": "markdown",
   "id": "da8fc96f-c59d-48a5-81ce-df26d95338c5",
   "metadata": {},
   "source": [
    "## 1. Preparation"
   ]
  },
  {
   "cell_type": "markdown",
   "id": "22ebf8bb-df9b-448a-ad72-466a563767ae",
   "metadata": {},
   "source": [
    "### 1.1 Libraries"
   ]
  },
  {
   "cell_type": "code",
   "execution_count": null,
   "id": "d946dfb3-d872-4119-8d6b-31d43bca172f",
   "metadata": {},
   "outputs": [],
   "source": [
    "import numpy as np \n",
    "import pandas as pd \n",
    "from datetime import datetime\n",
    "import matplotlib.pyplot as plt \n",
    "from sklearn.cluster import KMeans\n",
    "from sklearn.mixture import GaussianMixture\n",
    "from sklearn.metrics import mean_squared_error\n",
    "\n",
    "# We will use networx objects to store empircial graphs, local datasets and models\n",
    "import networkx as nx \n",
    "from sklearn.neighbors import kneighbors_graph\n",
    "from numpy import linalg as LA"
   ]
  },
  {
   "cell_type": "markdown",
   "id": "3f355472-2414-4de1-bec6-b8b13395c5b3",
   "metadata": {},
   "source": [
    "### 1.2 Helper functions"
   ]
  },
  {
   "cell_type": "code",
   "execution_count": null,
   "id": "70f33487-f112-4927-8687-9f5561048103",
   "metadata": {},
   "outputs": [],
   "source": [
    "# The function generates a scatter plot of nodes (=FMI stations) using \n",
    "# latitude and longitude as coordinates. \n",
    "def plotFMI(G_FMI):\n",
    "    num_stations = len(G_FMI.nodes)\n",
    "    colors = np.array(['black', 'green', 'red', 'brown', 'deeppink',\n",
    "                        'blue', 'olive', 'gray', 'orange', 'purple'])\n",
    "    coords = [G_FMI.nodes[i]['coord'] for i in range(num_stations)]\n",
    "    df_coords = pd.DataFrame(coords,columns=['latitude','longitude'])\n",
    "    coords = np.hstack((df_coords[\"latitude\"].to_numpy().reshape(-1,1),df_coords[\"longitude\"].to_numpy().reshape(-1,1)))\n",
    "    # Create a plot\n",
    "    fig, ax = plt.subplots()\n",
    "    # Draw nodes\n",
    "    for node in G_FMI.nodes:\n",
    "        color = colors[G_FMI.nodes[node]['cluster']]\n",
    "        ax.scatter(coords[node,1], coords[node,0], color=color, s=4, zorder=5)  # zorder ensures nodes are on top of edges\n",
    "        ax.text(coords[node,1]+0.1, coords[node,0]+0.2, str(node), fontsize=8, ha='center', va='center', color=color, fontweight='bold')\n",
    "    # Draw edges\n",
    "    for edge in G_FMI.edges:\n",
    "        ax.plot([coords[edge[0],1],coords[edge[1],1]], [coords[edge[0],0],coords[edge[1],0]], linestyle='-', color='gray', alpha=0.5)\n",
    "\n",
    "    ax.set_xlabel('longitude')\n",
    "    ax.set_ylabel('latitude')\n",
    "    ax.set_title('FMI stations')\n",
    "    plt.show()\n",
    "    \n",
    "    \n",
    "# The function connects each FMI station with \n",
    "# the nearest neighbours. \n",
    "def add_edges(graph, numneighbors=4):\n",
    "    coords = [graph.nodes[i]['coord'] for i in range(num_stations)]\n",
    "    df_coords = pd.DataFrame(coords,columns=['latitude','longitude'])\n",
    "    coords = np.hstack((df_coords[\"latitude\"].to_numpy().reshape(-1,1),df_coords[\"longitude\"].to_numpy().reshape(-1,1)))\n",
    "    A = kneighbors_graph(coords, numneighbors, mode='connectivity', include_self=False)\n",
    "    nrnodes = len(graph.nodes)\n",
    "    for iter_i in range(nrnodes): \n",
    "        for iter_ii in range(nrnodes): \n",
    "            if iter_i != iter_ii : \n",
    "                if A[iter_i,iter_ii]> 0 :\n",
    "                    graph.add_edge(iter_i, iter_ii)\n",
    "    return graph\n",
    "\n",
    "# The function below extracts a feature and label from each row \n",
    "# of dataframe df. Each row is expected to hold a FMI weather \n",
    "# measurement with cols \"Latitude\", \"Longitude\", \"temp\", \"Timestamp\" \n",
    "# returns numpy arrays X, y.\n",
    "def ExtractFeaureMatrixLabvelVector(data):\n",
    "    nrfeatures = 7 \n",
    "    nrdatapoints = len(data)\n",
    "    X = np.zeros((nrdatapoints, nrfeatures))\n",
    "    y = np.zeros((nrdatapoints, 1))\n",
    "\n",
    "    # Iterate over all rows in dataframe and create corresponding feature vector and label \n",
    "    for ind in range(nrdatapoints):\n",
    "        # latitude of FMI station, normalized by 100 \n",
    "        lat = float(data['Latitude'].iloc[ind])/100\n",
    "        # longitude of FMI station, normalized by 100\n",
    "        lon = float(data['Longitude'].iloc[ind])/100\n",
    "        # temperature value of the data point \n",
    "        tmp = data['temp'].iloc[ind]\n",
    "        # read the date and time of the temperature measurement \n",
    "        date_object = datetime.strptime(data['Timestamp'].iloc[ind], '%Y-%m-%d %H:%M:%S')\n",
    "        # Extract year, month, day, hour, and minute. Normalize these values \n",
    "        # to ensure that the features are in range [0,1].\n",
    "        year = float(date_object.year)/2025\n",
    "        month = float(date_object.month)/13\n",
    "        day = float(date_object.day)/32\n",
    "        hour = float(date_object.hour)/25\n",
    "        minute = float(date_object.minute)/61\n",
    "        X[ind,:] = [lat, lon, year, month, day, hour, minute]\n",
    "        y[ind,:] = tmp\n",
    "\n",
    "    return X, y"
   ]
  },
  {
   "cell_type": "markdown",
   "id": "275a8b75-4519-40cc-b6cc-90db6256b517",
   "metadata": {},
   "source": [
    "## 2 Data"
   ]
  },
  {
   "cell_type": "markdown",
   "id": "5b53fbb7-dd66-405e-8c7b-11780984a6d1",
   "metadata": {},
   "source": [
    "### 2.1 Dataset"
   ]
  },
  {
   "cell_type": "code",
   "execution_count": null,
   "id": "b8965b3a-b3e6-4d41-9bcf-b6a2be099b62",
   "metadata": {},
   "outputs": [],
   "source": [
    "# Import the weather measurements.\n",
    "data = pd.read_csv('Assignment_MLBasicsData.csv')\n",
    "\n",
    "# We consider each temperature measurement (=a row in dataframe) as a \n",
    "# separate data point.\n",
    "# Get the numbers of data points and the unique stations.\n",
    "num_stations = len(data.name.unique())\n",
    "num_datapoints = len(data)"
   ]
  },
  {
   "cell_type": "markdown",
   "id": "154cacd2-5b21-42d2-975b-d6097d742331",
   "metadata": {},
   "source": [
    "### 2.2 Empirical graph"
   ]
  },
  {
   "cell_type": "code",
   "execution_count": null,
   "id": "03cb77de-9101-4b04-908b-0e6dfb2d05ce",
   "metadata": {
    "tags": []
   },
   "outputs": [],
   "source": [
    "####################TODO####################\n",
    "# TODO:\n",
    "# 1. Construct the empirical graph G_FMI as a networkx.Graph() object.\n",
    "# 2. Add a single node for each station.\n",
    "# 3. Each node i must have the following attributes: \n",
    "#   'samplesize' - the number of measurements of the i-th weather station,\n",
    "#   'name' - the name of the i-th weather station,\n",
    "#   'coord' - the coordinates of the i-th weather station,\n",
    "#   'X' - the feature matrix,\n",
    "#   'y' - the label vector,\n",
    "#   'cluster' - the index of the cluster to which node i belongs to \n",
    "\n",
    "raise NotImplementedError\n",
    "# G_FMI = \n",
    "\n",
    "\n",
    "# Add edges between each station and its nearest neighbors.\n",
    "# NOTE: the node degree might be different for different nodes.\n",
    "numneighbors = 4\n",
    "G_FMI = add_edges(G_FMI, numneighbors=numneighbors)\n",
    "print(\"The empirical graph is connected:\", nx.is_connected(G_FMI))\n",
    "\n",
    "# Visualize the empirical graph.\n",
    "plotFMI(G_FMI)"
   ]
  },
  {
   "cell_type": "markdown",
   "id": "61f82577-2955-4841-a137-22c188f7cc74",
   "metadata": {},
   "source": [
    "## 3. Model"
   ]
  },
  {
   "cell_type": "markdown",
   "id": "5c43a510-9df0-470f-bcef-f8ab3dfd210a",
   "metadata": {},
   "source": [
    "### 3.1 Main hyperparameters"
   ]
  },
  {
   "cell_type": "code",
   "execution_count": null,
   "id": "62a20429-a6ac-4b9b-aa90-13cc392b338e",
   "metadata": {},
   "outputs": [],
   "source": [
    "# Define the number of clusters and the random seed.\n",
    "k = 10\n",
    "seed = 4740"
   ]
  },
  {
   "cell_type": "markdown",
   "id": "9517595b-5cc9-4ea7-9886-f095be067764",
   "metadata": {},
   "source": [
    "### 3.2 Student task #1 - K-Means with coordinates as a representation vector."
   ]
  },
  {
   "cell_type": "code",
   "execution_count": null,
   "id": "02a69379-8f40-4dfc-9c63-4a78f4a640ac",
   "metadata": {
    "tags": []
   },
   "outputs": [],
   "source": [
    "####################TODO####################\n",
    "# TODO: 1. Create a 2-dimensional representation vector\n",
    "#          with entries being the latitude and longitude \n",
    "#          of each FMI station.\n",
    "#       2. Cluster the nodes of G_FMI using the Python class sklearn.cluster.KMean.\n",
    "#       3. Store the cluster index in the nodes' attribute 'cluster'. \n",
    "        \n",
    "raise NotImplementedError\n",
    "\n",
    "    \n",
    "# Plot the clustered graph.\n",
    "plotFMI(G_FMI)"
   ]
  },
  {
   "cell_type": "code",
   "execution_count": null,
   "id": "f7c21b91-39e8-4c7d-9956-b803bda0083a",
   "metadata": {},
   "outputs": [],
   "source": [
    "####################TODO####################\n",
    "# TODO: 1. Compute the average temperature for each cluster.\n",
    "#       2. Calculate the average (over all nodes) squared \n",
    "#          error loss (see the Lecture Notes 6.7).\n",
    "\n",
    "raise NotImplementedError\n",
    "# avg_error = \n",
    "\n",
    "# Print the average error.\n",
    "print(f\"The average squared loss over all datapoints is {avg_error}\")"
   ]
  },
  {
   "cell_type": "markdown",
   "id": "f5b72e52-474d-421e-96d0-320b267ce4d9",
   "metadata": {},
   "source": [
    "### 3.3 Student task #2 - K-Means with GMM parameters as a representation vector."
   ]
  },
  {
   "cell_type": "code",
   "execution_count": null,
   "id": "75c174b1-7250-4011-9651-904ac214250e",
   "metadata": {
    "tags": []
   },
   "outputs": [],
   "source": [
    "# Define the number components for the GMM. \n",
    "n_components = 2\n",
    "\n",
    "####################TODO####################\n",
    "# TODO: 1. Fit the GaussianMixture() model \n",
    "#          to each node in the G_FMI. Use\n",
    "#          the pre-defined n_componentes and\n",
    "#          random_state (seed) values.\n",
    "#       2. Extract the parameters of the fitted\n",
    "#          model.\n",
    "#       3. Create a 2-dimensional representation vector \n",
    "#          of the shape (207, 114) with entries being the GMM parameters.\n",
    "#       4. Cluster the nodes of G_FMI using the Python class sklearn.cluster.KMean.\n",
    "#       5. Store the cluster labels in the nodes' attribute 'cluster'.\n",
    "# HINT: GMM parameters can be extracted with \n",
    "#          .means_ - returns the matrix with\n",
    "#                    entries being the mean vectors\n",
    "#                    of each mixture component,\n",
    "#          .covariances_ - returns the list of covariance matrices\n",
    "#                          of each mixture component,\n",
    "#          .weights_ - returns the weights of each mixture components.\n",
    "#       Use .ravel() to flatten all parameters and .concatenate()\n",
    "#       to stack them together. \n",
    "#       Therefore, the stacked parameters of each node have the shape (114, ).\n",
    "#       The raveled parameters are in the following order: means, covariances, weights. \n",
    "\n",
    "raise NotImplementedError\n",
    "\n",
    "\n",
    "    \n",
    "# Plot the clustered graph.\n",
    "plotFMI(G_FMI)"
   ]
  },
  {
   "cell_type": "code",
   "execution_count": null,
   "id": "1ccfb446-d9ee-4301-9518-5e3e46013d10",
   "metadata": {},
   "outputs": [],
   "source": [
    "####################TODO####################\n",
    "# TODO: 1. Compute the average temperature for each cluster.\n",
    "#       2. Calculate the average (over all nodes) squared \n",
    "#          error loss (see the Lecture Notes 6.7).\n",
    "# NOTE: You can copy your implementation from the cell above.\n",
    "\n",
    "raise NotImplementedError\n",
    "# avg_error = \n",
    "\n",
    "\n",
    "# Print the average error.\n",
    "print(f\"The average squared loss over all datapoints is {avg_error}\")"
   ]
  },
  {
   "cell_type": "markdown",
   "id": "704559d0-9269-4a7d-a5ed-1af8d83d92b8",
   "metadata": {},
   "source": [
    "### 3.4 Student task #3 - K-Means with eigenvectors of the Laplacian matrix as a representation vector."
   ]
  },
  {
   "cell_type": "code",
   "execution_count": null,
   "id": "d38db62e-42e3-4749-a970-f3ab73f6714b",
   "metadata": {
    "tags": []
   },
   "outputs": [],
   "source": [
    "####################TODO####################\n",
    "# TODO: 1. Construct the Laplacian matrix of G_FMI.\n",
    "#       2. Compute the eigenvalues and eigenvectors \n",
    "#          of the Laplacian matrix.\n",
    "#       3. Sort both the eigenvalues and the eigenvectors\n",
    "#          in ascending order.\n",
    "#       4. Use the first k eigenvectors as\n",
    "#          a representation vector.\n",
    "#       5. Cluster the nodes of G_FMI using the Python class sklearn.cluster.KMean.\n",
    "#       6. Store the cluster labels in the nodes' attribute 'cluster'.\n",
    "\n",
    "raise NotImplementedError\n",
    "\n",
    "\n",
    "# Plot the clustered graph.\n",
    "plotFMI(G_FMI)"
   ]
  },
  {
   "cell_type": "code",
   "execution_count": null,
   "id": "6263172f-caf2-4710-be53-dd3c9a94d7b7",
   "metadata": {
    "tags": []
   },
   "outputs": [],
   "source": [
    "####################TODO####################\n",
    "# TODO: 1. Compute the average temperature for each cluster.\n",
    "#       2. Calculate the average (over all nodes) squared \n",
    "#          error loss (see the Lecture Notes 6.7).\n",
    "# NOTE: You can copy your implementation from the cell above.\n",
    "\n",
    "raise NotImplementedError\n",
    "# avg_error = \n",
    "\n",
    "\n",
    "# Print the average error.\n",
    "print(f\"The average squared loss over all datapoints is {avg_error}\")"
   ]
  },
  {
   "cell_type": "code",
   "execution_count": null,
   "id": "950e1eb4-e1e9-4ede-92e4-e38864d151a4",
   "metadata": {},
   "outputs": [],
   "source": []
  }
 ],
 "metadata": {
  "kernelspec": {
   "display_name": "Python 3",
   "language": "python",
   "name": "python3"
  },
  "language_info": {
   "codemirror_mode": {
    "name": "ipython",
    "version": 3
   },
   "file_extension": ".py",
   "mimetype": "text/x-python",
   "name": "python",
   "nbconvert_exporter": "python",
   "pygments_lexer": "ipython3",
   "version": "3.10.12"
  }
 },
 "nbformat": 4,
 "nbformat_minor": 5
}
