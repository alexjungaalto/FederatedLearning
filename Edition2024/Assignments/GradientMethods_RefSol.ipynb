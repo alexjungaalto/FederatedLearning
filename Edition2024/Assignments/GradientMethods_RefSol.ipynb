{
 "cells": [
  {
   "cell_type": "markdown",
   "id": "d36ddeea-2981-45a4-91ed-2a27dc6f1734",
   "metadata": {},
   "source": [
    "# Reference Solution for Coding Assignment \"Gradient Methods\""
   ]
  },
  {
   "cell_type": "markdown",
   "id": "eaf89ff1-2e35-4dcb-ac09-85bee08afde2",
   "metadata": {},
   "source": [
    "## 1. Preparation"
   ]
  },
  {
   "cell_type": "code",
   "execution_count": 1,
   "id": "48825306-2884-4883-bcaa-ef9232d2a8e0",
   "metadata": {},
   "outputs": [],
   "source": [
    "import numpy as np \n",
    "import pandas as pd \n",
    "from datetime import datetime\n",
    "import matplotlib.pyplot as plt \n",
    "from sklearn.linear_model import Ridge\n",
    "from sklearn.metrics import mean_squared_error\n",
    "from numpy import linalg as LA"
   ]
  },
  {
   "cell_type": "markdown",
   "id": "4e995572-5300-4c58-bf1f-9de6b3376e83",
   "metadata": {},
   "source": [
    "## 2. Data"
   ]
  },
  {
   "cell_type": "markdown",
   "id": "d8ad8489-e1c9-4506-9382-5a1805f6576b",
   "metadata": {},
   "source": [
    "### 2.1 Dataset"
   ]
  },
  {
   "cell_type": "code",
   "execution_count": 2,
   "id": "aeb8bd8c-f9cf-45e5-9a9b-75f9ef1c8894",
   "metadata": {
    "tags": []
   },
   "outputs": [
    {
     "name": "stdout",
     "output_type": "stream",
     "text": [
      "First data point:\n",
      "Unnamed: 0                              0\n",
      "Latitude                         69.04277\n",
      "Longitude                        20.85091\n",
      "Timestamp             2023-12-31 18:00:00\n",
      "temp                                -16.5\n",
      "name          Enontekiö Kilpisjärvi Saana\n",
      "Name: 0, dtype: object\n",
      "\n",
      "******************************\n",
      "\n",
      "Another data point:\n",
      "Unnamed: 0                        13\n",
      "Latitude                      69.757\n",
      "Longitude                     27.012\n",
      "Timestamp        2023-12-31 13:00:00\n",
      "temp                           -26.3\n",
      "name          Utsjoki Kevo Kevojärvi\n",
      "Name: 13, dtype: object\n",
      "\n",
      "******************************\n",
      "\n",
      "Unnormalized features of the first data point: \n",
      "Latitude: 69.04277\n",
      "Longitude: 20.85091\n",
      "Year: 2023.0\n",
      "Month: 12.0\n",
      "Day: 31.0\n",
      "Hour: 18.0\n",
      "Minute: 0.0\n",
      "\n",
      "******************************\n",
      "\n",
      "Label of first data point :  -16.5\n"
     ]
    }
   ],
   "source": [
    "# Import the weather measurements.\n",
    "data = pd.read_csv('Assignment_MLBasicsData.csv')\n",
    "\n",
    "# We consider each temperature measurement (=a row in dataframe data) \n",
    "# as a separate data point.\n",
    "# Determine the total number of data points stored in csv file.\n",
    "nrdatapoints = len(data)\n",
    "\n",
    "# Print out the first data point (first row).\n",
    "print(\"First data point:\")\n",
    "print(data.iloc[0])\n",
    "print(\"\\n******************************\\n\")\n",
    "\n",
    "# Here is another data point. \n",
    "print(\"Another data point:\")\n",
    "print(data.iloc[13])\n",
    "print(\"\\n******************************\\n\")\n",
    "\n",
    "# We use normalized values of \n",
    "# latitude, longitude, year, mon, day, hour, minute (as float values) \n",
    "# as features of a data point.\n",
    "nrfeatures = 7 \n",
    "\n",
    "# The code snippet below extracts the features of the first data point (first row in dataframe data).\n",
    "date_object = datetime.strptime(data['Timestamp'].iloc[0], '%Y-%m-%d %H:%M:%S')\n",
    "\n",
    "# Extract individual components.\n",
    "latitude = data[\"Latitude\"].iloc[0]\n",
    "longitude = data[\"Longitude\"].iloc[0]\n",
    "year = float(date_object.year)\n",
    "month = float(date_object.month)\n",
    "day = float(date_object.day)\n",
    "hour = float(date_object.hour)\n",
    "minute = float(date_object.minute)\n",
    "\n",
    "print(\"Unnormalized features of the first data point: \")\n",
    "print(f\"Latitude: {latitude}\")\n",
    "print(f\"Longitude: {longitude}\")\n",
    "print(f\"Year: {year}\")\n",
    "print(f\"Month: {month}\")\n",
    "print(f\"Day: {day}\")\n",
    "print(f\"Hour: {hour}\")\n",
    "print(f\"Minute: {minute}\")\n",
    "print(\"\\n******************************\\n\")\n",
    "\n",
    "# We choose the temperature as the label (quantity of interest) of a data point.\n",
    "print(\"Label of first data point:\", data[\"temp\"].iloc[0])"
   ]
  },
  {
   "cell_type": "markdown",
   "id": "64a91255-b609-41a8-b0c7-ce924097f29c",
   "metadata": {},
   "source": [
    "### 2.2 Features and labels"
   ]
  },
  {
   "cell_type": "code",
   "execution_count": 8,
   "id": "b89aa18b-bc5f-4d0e-b595-e9f31fa025bc",
   "metadata": {
    "tags": []
   },
   "outputs": [
    {
     "name": "stdout",
     "output_type": "stream",
     "text": [
      "The created feature matrix contains 16469 entries of 7 features each.\n",
      "The created label vector contains 16469 measurements.\n"
     ]
    }
   ],
   "source": [
    "# We next build the feature matrix X (each of its rows hold the features of a data point) \n",
    "# and the label vector y (whose entries hold the labels of data points).\n",
    "X = np.zeros((nrdatapoints, nrfeatures))\n",
    "y = np.zeros((nrdatapoints, 1))\n",
    "\n",
    "# Iterate over all rows in dataframe and create corresponding feature vector and label. \n",
    "for ind in data.index:\n",
    "    # Latitude of FMI station, normalized by 100. \n",
    "    lat = float(data['Latitude'].iloc[ind]) / 100\n",
    "    \n",
    "    # Longitude of FMI station, normalized by 100.\n",
    "    lon = float(data['Longitude'].iloc[ind]) / 100\n",
    "    \n",
    "    # Exctract the temperature value.\n",
    "    tmp = data['temp'].iloc[ind]\n",
    "    \n",
    "    # Read the date and time of the temperature measurement.\n",
    "    date_object = datetime.strptime(data['Timestamp'].iloc[ind], '%Y-%m-%d %H:%M:%S')\n",
    "\n",
    "    # Extract year, month, day, hour, minute, and second. \n",
    "    # Normalize these values to ensure features are in range [0,1].\n",
    "    year = float(date_object.year) / 2025\n",
    "    month = float(date_object.month) / 13\n",
    "    day = float(date_object.day) / 32\n",
    "    hour = float(date_object.hour) / 25\n",
    "    minute = float(date_object.minute) / 61\n",
    "    \n",
    "    # Store the data point's features and a label.\n",
    "    X[ind,:] = [lat, lon, year, month, day, hour, minute]\n",
    "    y[ind,:] = tmp\n",
    "\n",
    "print(f\"The created feature matrix contains {np.shape(X)[0]} entries of {np.shape(X)[1]} features each.\")\n",
    "print(f\"The created label vector contains {np.shape(y)[0]} measurements.\")"
   ]
  },
  {
   "cell_type": "markdown",
   "id": "efdf0e8e-d54a-4f67-9c2c-d5f8eb680233",
   "metadata": {},
   "source": [
    "### 2.3 Training and validation sets"
   ]
  },
  {
   "cell_type": "code",
   "execution_count": 4,
   "id": "f8a18f4b-2583-4619-a54a-4b7ce3357790",
   "metadata": {
    "tags": []
   },
   "outputs": [
    {
     "name": "stdout",
     "output_type": "stream",
     "text": [
      "The training set consists of 100 data points.\n",
      "The validation set consists of 16369 data points.\n"
     ]
    }
   ],
   "source": [
    "# Define the number of data points used for training set.\n",
    "trainsize = 100\n",
    "\n",
    "# Split the dataset into training and validation set. \n",
    "Xtrain = X[:trainsize,:] \n",
    "Xval = X[trainsize:] \n",
    "ytrain = y[:trainsize] \n",
    "yval = y[trainsize:] \n",
    "\n",
    "print(f\"The training set consists of {np.shape(Xtrain)[0]} data points.\")\n",
    "print(f\"The validation set consists of {np.shape(Xval)[0]} data points.\")"
   ]
  },
  {
   "cell_type": "markdown",
   "id": "a1d0d122-a3f9-414a-872b-7add6b8b43e7",
   "metadata": {},
   "source": [
    "## 3. Model"
   ]
  },
  {
   "cell_type": "markdown",
   "id": "1cc39c05-5fd4-4dc1-bde2-fb119de77baf",
   "metadata": {},
   "source": [
    "### 3.1 Ridge regression - Scikit-learn class"
   ]
  },
  {
   "cell_type": "code",
   "execution_count": 5,
   "id": "1d9bf864-f349-4d41-80ff-b5818f7c2f73",
   "metadata": {},
   "outputs": [
    {
     "name": "stdout",
     "output_type": "stream",
     "text": [
      "********** Ridge Regression Diagnosis **********\n",
      "Training error:  34.48452921511405\n",
      "Validation error:  41.20962591358468\n"
     ]
    }
   ],
   "source": [
    "# Define the regularization parameter.\n",
    "regparam = 0.01\n",
    "\n",
    "# Create a ridge regression using scikit-learn class.\n",
    "ridge = Ridge(alpha=(trainsize*regparam), fit_intercept=False )\n",
    "\n",
    "# Train the linear model, i.e., \n",
    "# solve the ERM to obtain parameters of the linear model.\n",
    "ridge.fit(Xtrain, ytrain)\n",
    "Etrain = mean_squared_error(ytrain, ridge.predict(Xtrain))\n",
    "Eval = mean_squared_error(yval, ridge.predict(Xval))\n",
    "\n",
    "print(\"********** Ridge Regression Diagnosis **********\")\n",
    "print(\"Training error: \", Etrain)\n",
    "print(\"Validation error: \", Eval)"
   ]
  },
  {
   "cell_type": "markdown",
   "id": "925a9cc0-962d-4e9d-b621-be173c0579a1",
   "metadata": {},
   "source": [
    "### 3.2 Student task #1 - Ridge regression by gradient descent"
   ]
  },
  {
   "cell_type": "code",
   "execution_count": 6,
   "id": "e24502ee-58a6-4404-8512-b0eba2a52047",
   "metadata": {
    "tags": []
   },
   "outputs": [
    {
     "name": "stdout",
     "output_type": "stream",
     "text": [
      "\n",
      "********** GD Ridge Regression Diagnosis **********\n",
      "Training error: 34.714123131613945\n",
      "Validation error: 41.48345177228171\n"
     ]
    },
    {
     "data": {
      "image/png": "[encoded data removed]",
      "text/plain": [
       "<Figure size 640x480 with 1 Axes>"
      ]
     },
     "metadata": {},
     "output_type": "display_data"
    }
   ],
   "source": [
    "# Define the initial parameters.\n",
    "N_iters = 1000 # The number of gradient steps.\n",
    "lrate = 0.1 # Learning rate\n",
    "ridge_alpha = regparam # Regularization parameter\n",
    "\n",
    "# Define the storages. \n",
    "weights = np.zeros((nrfeatures, 1)) # Current weights.\n",
    "log_gradient = np.zeros((N_iters, 1)) # The log of gradients.\n",
    "log_objective = np.zeros((N_iters, 1)) # The log of the objective function values.\n",
    "\n",
    "# Algorithm 2\n",
    "for iter_GD in range(N_iters): \n",
    "    gradient = -(2 / trainsize) * Xtrain.T.dot(ytrain - Xtrain.dot(weights)) + 2 * ridge_alpha * weights\n",
    "    weights -=  lrate * gradient\n",
    "    log_gradient[iter_GD] = LA.norm(gradient)\n",
    "    log_objective[iter_GD] = mean_squared_error(ytrain, Xtrain.dot(weights)) + ridge_alpha * np.sum(weights ** 2)\n",
    "    \n",
    "plt.plot(range(N_iters), log_objective)\n",
    "plt.xlabel(\"Iteration step\")\n",
    "plt.ylabel(\"Objective value\")\n",
    "\n",
    "print(\"\\n********** GD Ridge Regression Diagnosis **********\")\n",
    "print(\"Training error:\", mean_squared_error(ytrain, Xtrain.dot(weights)) )\n",
    "print(\"Validation error:\", mean_squared_error(yval, Xval.dot(weights)))"
   ]
  },
  {
   "cell_type": "markdown",
   "id": "afd6dfb1-99b7-4e4a-b41e-aabbd5ca3cae",
   "metadata": {},
   "source": [
    "### 3.3 Student task #2 - The optimal learning rate"
   ]
  },
  {
   "cell_type": "code",
   "execution_count": 11,
   "id": "16188f63-4cfb-4cbe-9ace-d95d182a2297",
   "metadata": {
    "tags": []
   },
   "outputs": [
    {
     "name": "stdout",
     "output_type": "stream",
     "text": [
      "The learning rate: 0.28\n",
      "The number of iterations: 1567\n",
      "The objective value: 38.12430754453986\n",
      "\n",
      "The learning rate: 0.28210526315789475\n",
      "The number of iterations: 1556\n",
      "The objective value: 38.124307544467776\n",
      "\n",
      "The learning rate: 0.2842105263157895\n",
      "The number of iterations: 1545\n",
      "The objective value: 38.12430754441253\n",
      "\n",
      "The learning rate: 0.28631578947368425\n",
      "The number of iterations: 1534\n",
      "The objective value: 38.124307544373785\n",
      "\n",
      "The learning rate: 0.28842105263157897\n",
      "The number of iterations: 1523\n",
      "The objective value: 38.124307544351296\n",
      "\n",
      "The learning rate: 0.2905263157894737\n",
      "The number of iterations: 1513\n",
      "The objective value: 38.124307544244616\n",
      "\n",
      "The learning rate: 0.29263157894736846\n",
      "The number of iterations: 1502\n",
      "The objective value: 38.12430754425354\n",
      "\n",
      "The learning rate: 0.2947368421052632\n",
      "The number of iterations: 1492\n",
      "The objective value: 38.12430754417744\n",
      "\n",
      "The learning rate: 0.2968421052631579\n",
      "The number of iterations: 1482\n",
      "The objective value: 38.124307544116284\n",
      "\n",
      "The learning rate: 0.29894736842105263\n",
      "The number of iterations: 1472\n",
      "The objective value: 38.12430754406971\n",
      "\n",
      "The learning rate: 0.3010526315789474\n",
      "The number of iterations: 1463\n",
      "The objective value: 38.12430754393739\n",
      "\n",
      "The learning rate: 0.3031578947368421\n",
      "The number of iterations: 1453\n",
      "The objective value: 38.12430754391886\n",
      "\n",
      "The learning rate: 0.30526315789473685\n",
      "The number of iterations: 1443\n",
      "The objective value: 38.12430754391423\n",
      "\n",
      "The learning rate: 0.30736842105263157\n",
      "The number of iterations: 1434\n",
      "The objective value: 38.12430754382279\n",
      "\n",
      "The learning rate: 0.30947368421052635\n",
      "The number of iterations: 1425\n",
      "The objective value: 38.124307543744614\n",
      "\n",
      "The learning rate: 0.31157894736842107\n",
      "The number of iterations: 1416\n",
      "The objective value: 38.124307543679315\n",
      "\n",
      "The learning rate: 0.3136842105263158\n",
      "The number of iterations: 1407\n",
      "The objective value: 38.12430754362659\n",
      "\n",
      "The learning rate: 0.3157894736842105\n",
      "The number of iterations: 5000\n",
      "The objective value: 38.12430756242844\n",
      "\n",
      "The learning rate: 0.3178947368421053\n",
      "The number of iterations: 5000\n",
      "The objective value: 9.895386988094385e+49\n",
      "\n",
      "The learning rate: 0.32\n",
      "The number of iterations: 5000\n",
      "The objective value: 6.571117681242692e+106\n",
      "\n",
      "********** GD Ridge Regression Diagnosis **********\n",
      "The optimal hyperparameters:\n",
      "The learning rate: 0.3136842105263158\n",
      "Number of ierations: 1407\n",
      "\n"
     ]
    }
   ],
   "source": [
    "# Define the initial parameters.\n",
    "tol = 1e-10 # The tolerance\n",
    "lrates = np.linspace(0.28, 0.32, 20) # Learning rate\n",
    "ridge_alpha = regparam # Regularization parameter\n",
    "\n",
    "# Define the storages. \n",
    "best_objective = float('inf') # The best value of the objective function.\n",
    "best_weights = 0 # The weights for which the value of the objective function is the smallest.\n",
    "best_lrate = 0 # The learning rate for which the value of the objective function is the smallest.\n",
    "\n",
    "# We use this numpy array to store, for each choice of lrate, the number \n",
    "# of iterations required to achieve a sufficiently small decrease of a GD step.\n",
    "\n",
    "nriters = np.zeros((len(lrates),1))\n",
    "\n",
    "# Iterate over list of values for the learning rate.\n",
    "for iter_lrate in range(len(lrates)):\n",
    "    lrate = lrates[iter_lrate]\n",
    "    N_iter = 0 # Store the number of GD steps\n",
    "    weights = np.zeros((nrfeatures, 1)) # Current weights.\n",
    "    objective_curr = 1e10 # The current value of the objective function.\n",
    "    objective_next =  1e5 # The next value of the objective function.\n",
    "    log_objective = np.array([])\n",
    "    # the following loop implments GD Algorithm 1\n",
    "    while (N_iter < 5000) and (np.abs(objective_curr - objective_next) > tol): \n",
    "        objective_curr = objective_next\n",
    "        gradient = -(2 / trainsize) * Xtrain.T.dot(ytrain - Xtrain.dot(weights)) + 2 * ridge_alpha * weights\n",
    "        weights -=  lrate * gradient\n",
    "        objective_next =  mean_squared_error(ytrain, Xtrain.dot(weights)) + ridge_alpha * np.sum(weights ** 2)\n",
    "        N_iter += 1\n",
    "        log_objective = np.append(log_objective, objective_next)\n",
    "    nriters[iter_lrate] = N_iter \n",
    "    \n",
    "    # plt.plot(range(N_iter), log_objective)\n",
    "    # plt.title(lrate)\n",
    "    # plt.xlabel(\"Iteration step\")\n",
    "    # plt.ylabel(\"Objective value\")\n",
    "    # plt.show()\n",
    "    print(f\"The learning rate: {lrate}\\nThe number of iterations: {N_iter}\\nThe objective value: {objective_curr}\\n\")\n",
    "\n",
    "min_idx = np.argmin(nriters)     \n",
    "min_nriters = int(nriters[min_idx][0])\n",
    "best_lrate = lrates[min_idx]\n",
    "    \n",
    "print(\"********** GD Ridge Regression Diagnosis **********\")\n",
    "print(f\"The optimal hyperparameters:\\nThe learning rate: {best_lrate}\\nNumber of ierations: {min_nriters}\\n\")"
   ]
  },
  {
   "cell_type": "code",
   "execution_count": null,
   "id": "56d07b58-2935-4a02-b86f-e5913312b889",
   "metadata": {},
   "outputs": [],
   "source": []
  },
  {
   "cell_type": "code",
   "execution_count": null,
   "id": "5ed61df1-90c2-4769-8f1a-bb57f7a62825",
   "metadata": {},
   "outputs": [],
   "source": []
  }
 ],
 "metadata": {
  "kernelspec": {
   "display_name": "Python 3",
   "language": "python",
   "name": "python3"
  },
  "language_info": {
   "codemirror_mode": {
    "name": "ipython",
    "version": 3
   },
   "file_extension": ".py",
   "mimetype": "text/x-python",
   "name": "python",
   "nbconvert_exporter": "python",
   "pygments_lexer": "ipython3",
   "version": "3.10.12"
  }
 },
 "nbformat": 4,
 "nbformat_minor": 5
}
