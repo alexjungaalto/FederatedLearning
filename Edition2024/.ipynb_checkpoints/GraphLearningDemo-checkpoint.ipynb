{
 "cells": [
  {
   "cell_type": "markdown",
   "id": "4aa0bb71",
   "metadata": {},
   "source": [
    "# Graph Learning\n",
    "\n"
   ]
  },
  {
   "cell_type": "code",
   "execution_count": 1,
   "id": "65e34be9",
   "metadata": {},
   "outputs": [],
   "source": [
    "def PlotGraph(graphin,ax, weight='weight',pos='coord',annotate=\"name\"): \n",
    "    \n",
    "    # the numpy array x will hold the horizontal coord of markers for each node in emp. graph graphin\n",
    "    x = np.zeros(len(graphin.nodes))\n",
    "    # vertical coords of markers \n",
    "    y = np.zeros(len(graphin.nodes))\n",
    "    \n",
    "    for iter_node in graphin.nodes:\n",
    "        x[iter_node]= graphin.nodes[iter_node][pos][0] \n",
    "        y[iter_node]= graphin.nodes[iter_node][pos][1]\n",
    "\n",
    "    # standareize the coordinates of node markers \n",
    "    \n",
    "    x = (x - np.min(x, axis=0))/np.std(x, axis=0) + 1 \n",
    "    y = (y - np.min(y, axis=0))/np.std(y, axis=0) + 1 \n",
    "\n",
    "    \n",
    "    # generate a scatter plot with each marker representing a node in graphin\n",
    "    ax.scatter(x, y, 300, marker='o', color='Black')\n",
    "\n",
    "# draw links between two nodes if they are connected by an edge \n",
    "# in the empirical graph. use the \"weight\" of the edge to determine the line thickness\n",
    "    for edge_dmy in graphin.edges:\n",
    "        ax.plot([x[edge_dmy[0]],x[edge_dmy[1]]],[y[edge_dmy[0]],y[edge_dmy[1]]],c='black',lw=4*graphin.edges[edge_dmy][weight])\n",
    "\n",
    "    # annotate each marker by the node attribute whose name is stored in the input parameter \"annotate\"\n",
    "    for iter_node in graphin.nodes : \n",
    "        ax.annotate(str(graphin.nodes[iter_node][annotate]),(x[iter_node]+0.1, 0.1+y[iter_node]),c=\"red\" )\n",
    "    ax.set_ylim(0.9*np.min(y),1.1*np.max(y))\n",
    "    ax.set_xlim(0.9*np.min(x),1.1*np.max(x))\n",
    "    ax.axis('off')"
   ]
  },
  {
   "cell_type": "code",
   "execution_count": 2,
   "id": "6cea328f",
   "metadata": {},
   "outputs": [],
   "source": [
    "# Define a function to compute the KL divergence between two multivariate normal distributions\n",
    "def kl_divergence(dist1, dist2):\n",
    "    n = dist1.mean.shape[0]\n",
    "    term1 = 0.5 * (np.log(np.linalg.det(dist2.cov) / np.linalg.det(dist1.cov)))\n",
    "    term2 = 0.5 * np.trace(np.linalg.inv(dist2.cov) @ dist1.cov)\n",
    "    term3 = 0.5 * ((dist2.mean - dist1.mean).T @ np.linalg.inv(dist2.cov) @ (dist2.mean - dist1.mean))\n",
    "    return term1 + term2 + term3 - n / 2 "
   ]
  },
  {
   "cell_type": "code",
   "execution_count": 3,
   "id": "e9502797",
   "metadata": {},
   "outputs": [],
   "source": [
    "from sklearn.metrics import mean_squared_error\n",
    "\n",
    "def train_err_diff (Gin,nodei,nodej): \n",
    "    X = Gin.nodes[nodei][\"X\"] \n",
    "    y = Gin.nodes[nodei][\"y\"]\n",
    "    \n",
    "    reg = LinearRegression().fit(X, y)\n",
    "    trainerr1 = mean_squared_error(reg.predict(X),y)\n",
    "    \n",
    "    Xaug = np.vstack((X, Gin.nodes[nodej][\"X\"] ))\n",
    "    yaug = np.vstack((y, Gin.nodes[nodej][\"y\"] ))\n",
    "    regaug = LinearRegression().fit(Xaug, yaug)\n",
    "    trainerr2 = mean_squared_error(regaug.predict(X),y)\n",
    "    return (trainerr2 - trainerr1)/trainerr1"
   ]
  },
  {
   "cell_type": "code",
   "execution_count": 5,
   "id": "08d18cf9",
   "metadata": {
    "scrolled": true
   },
   "outputs": [
    {
     "name": "stdout",
     "output_type": "stream",
     "text": [
      "=======\n",
      " Helene\n",
      "   data point nr.        x1       x2         y\n",
      "0               0  0.913197  missing -5.000955\n",
      "1               1  1.268547  missing -3.484405\n",
      "=======\n",
      " Isabella\n",
      "   data point nr.        x1       x2         y\n",
      "0               0  0.436712  missing -0.182854\n",
      "1               1  0.067550  missing  3.579716\n",
      "=======\n",
      " Anika\n",
      "   data point nr.       x1        x2         y\n",
      "0               0  missing  0.209786 -0.182854\n",
      "1               1  missing -2.818793  3.579716\n",
      "=======\n",
      " Emily\n",
      "   data point nr.       x1        x2         y\n",
      "0               0  missing  0.352673 -5.000955\n",
      "1               1  missing  1.258760 -3.484405\n"
     ]
    },
    {
     "data": {
      "text/plain": [
       "0.0005394669591233411"
      ]
     },
     "execution_count": 5,
     "metadata": {},
     "output_type": "execute_result"
    }
   ],
   "source": [
    "import networkx as nx \n",
    "import pandas as pd \n",
    "import numpy as np\n",
    "from sklearn.linear_model import LinearRegression\n",
    "\n",
    "Gin = nx.Graph()\n",
    "\n",
    "datascientist = \"Helene\"\n",
    "filename = \"https://raw.githubusercontent.com/alexjungaalto/FederatedLearning/main/material/QuizFLFlavors/localdataset\"+datascientist \n",
    "df0=pd.read_csv(filename) \n",
    "\n",
    "print(\"=======\\n\",datascientist)\n",
    "print(df0.head(2))\n",
    "df0=df0.replace('missing',0)\n",
    "\n",
    "Gin.add_node(0) \n",
    "Gin.nodes[0]['name'] = datascientist\n",
    "Gin.nodes[0]['X'] = df0[[\"x1\",\"x2\"]].to_numpy()\n",
    "Gin.nodes[0]['y'] = df0[\"y\"].to_numpy().reshape(-1,1)\n",
    "Gin.nodes[0]['pos'] = np.array([1,0])\n",
    "\n",
    "datascientist = \"Isabella\"\n",
    "filename = \"https://raw.githubusercontent.com/alexjungaalto/FederatedLearning/main/material/QuizFLFlavors/localdataset\"+datascientist \n",
    "df1 =pd.read_csv(filename)  \n",
    "print(\"=======\\n\",datascientist)\n",
    "print(df1.head(2))\n",
    "df1=df1.replace('missing',0)\n",
    "\n",
    "Gin.add_node(1) \n",
    "Gin.nodes[1]['name'] = datascientist\n",
    "Gin.nodes[1]['X'] = df1[[\"x1\",\"x2\"]].to_numpy()\n",
    "Gin.nodes[1]['y'] = df1[\"y\"].to_numpy().reshape(-1,1)\n",
    "Gin.nodes[1]['pos'] = np.array([1,1])\n",
    "\n",
    "datascientist = \"Anika\"\n",
    "filename = \"https://raw.githubusercontent.com/alexjungaalto/FederatedLearning/main/material/QuizFLFlavors/localdataset\"+datascientist \n",
    "df2 =pd.read_csv(filename) \n",
    "print(\"=======\\n\",datascientist)\n",
    "print(df2.head(2))\n",
    "df2=df2.replace('missing',0)\n",
    "\n",
    "Gin.add_node(2) \n",
    "Gin.nodes[2]['name'] = datascientist\n",
    "Gin.nodes[2]['X'] = df2[[\"x1\",\"x2\"]].to_numpy()\n",
    "Gin.nodes[2]['y'] = df2[\"y\"].to_numpy().reshape(-1,1)\n",
    "Gin.nodes[2]['pos'] = np.array([0,1])\n",
    "\n",
    "datascientist = \"Emily\"\n",
    "filename = \"https://raw.githubusercontent.com/alexjungaalto/FederatedLearning/main/material/QuizFLFlavors/localdataset\"+datascientist \n",
    "df3 =pd.read_csv(filename)  \n",
    "print(\"=======\\n\",datascientist)\n",
    "print(df3.head(2))\n",
    "df3=df3.replace('missing',0)\n",
    "\n",
    "Gin.add_node(3) \n",
    "Gin.nodes[3]['name'] = datascientist\n",
    "Gin.nodes[3]['X'] = df3[[\"x1\",\"x2\"]].to_numpy()\n",
    "Gin.nodes[3]['y'] = df3[\"y\"].to_numpy().reshape(-1,1)\n",
    "Gin.nodes[3]['pos'] = np.array([0,0])\n",
    "\n",
    "train_err_diff(Gin,0,2)"
   ]
  },
  {
   "cell_type": "markdown",
   "id": "6bc008b7",
   "metadata": {},
   "source": [
    "It is always a good idea to try to visualize the data at hand. The code snippet below generates a scatter plot for each local dataset, using the features x1 and x2 (possibly replaced by 0 values) as coordinates. "
   ]
  },
  {
   "cell_type": "code",
   "execution_count": 7,
   "id": "39bde309",
   "metadata": {
    "scrolled": false
   },
   "outputs": [
    {
     "data": {
      "image/png": "[encoded data removed]",
      "text/plain": [
       "<Figure size 640x480 with 4 Axes>"
      ]
     },
     "metadata": {},
     "output_type": "display_data"
    }
   ],
   "source": [
    "import matplotlib.pyplot as plt\n",
    "import numpy as np \n",
    "import warnings\n",
    "warnings.filterwarnings('ignore')\n",
    "import statistics\n",
    "from scipy.stats import multivariate_normal\n",
    "from scipy.stats import wasserstein_distance\n",
    "\n",
    "for iter_node in Gin.nodes(): \n",
    "    for iter_nodej in Gin.nodes(): \n",
    "        if iter_node != iter_nodej:    \n",
    "            var1 = np.var(Gin.nodes[iter_node][\"y\"])\n",
    "            mean1 = np.mean(Gin.nodes[iter_node][\"y\"])\n",
    "            var2 = np.var(Gin.nodes[iter_nodej][\"y\"])\n",
    "            mean2 = np.mean(Gin.nodes[iter_nodej][\"y\"])\n",
    "            mvn1 = multivariate_normal(mean=mean1, cov=var1)\n",
    "            mvn2 = multivariate_normal(mean=mean2, cov=var2)\n",
    "            w_dist = wasserstein_distance(Gin.nodes[iter_node][\"y\"].reshape(-1,), Gin.nodes[iter_nodej][\"y\"].reshape(-1,))\n",
    "            Gin.add_edge(iter_node,iter_nodej) \n",
    "            Gin.edges[iter_node,iter_nodej][\"kld\"]=np.exp(-(kl_divergence(mvn1, mvn2)+kl_divergence(mvn2, mvn1)))\n",
    "            Gin.edges[iter_node,iter_nodej][\"wasserstein\"]=np.exp(-w_dist/3)\n",
    "            Gin.edges[iter_node,iter_nodej][\"trainerrdiff\"]=np.exp(-train_err_diff(Gin,iter_node,iter_nodej)/0.001)\n",
    "\n",
    "fig, axs = plt.subplots(2, 2)  \n",
    "fig.tight_layout(pad=5.0)\n",
    "PlotGraph(Gin,axs[0,0],weight=\"wasserstein\",pos='pos',annotate=\"name\")\n",
    "axs[0,0].set_title(\"Wasserstein\")\n",
    "PlotGraph(Gin,axs[0,1],weight=\"kld\",pos='pos',annotate=\"name\")\n",
    "axs[0,1].set_title(\"KLD\")\n",
    "PlotGraph(Gin,axs[1,0],weight=\"trainerrdiff\",pos='pos',annotate=\"name\")\n",
    "axs[1,0].set_title(\"trainerrdiff\")\n",
    "fig.tight_layout(pad=5.0)"
   ]
  },
  {
   "cell_type": "code",
   "execution_count": 16,
   "id": "9ea38bca",
   "metadata": {},
   "outputs": [
    {
     "name": "stdout",
     "output_type": "stream",
     "text": [
      "************\n",
      "\n",
      "average sq. error linreg at node 0  :  26.397542587018346\n",
      "************\n",
      "\n",
      "average sq. error linreg at node 1  :  4.973069869839388\n",
      "************\n",
      "\n",
      "average sq. error linreg at node 2  :  8.846371377069406\n",
      "************\n",
      "\n",
      "average sq. error linreg at node 3  :  66.72308812675512\n"
     ]
    }
   ],
   "source": [
    "from sklearn.linear_model import LinearRegression\n",
    "from sklearn.metrics import mean_squared_error\n",
    "\n",
    "for node in Gin.nodes(data=False): \n",
    "    print(\"************\\n\")\n",
    "    clf = LinearRegression().fit(Gin.nodes[node][\"X\"],Gin.nodes[node][\"y\"])\n",
    "    print(\"average sq. error linreg at node\",node,\" : \",mean_squared_error(Gin.nodes[node][\"y\"], clf.predict(Gin.nodes[node][\"X\"])))"
   ]
  },
  {
   "cell_type": "code",
   "execution_count": 35,
   "id": "1f859e4c",
   "metadata": {},
   "outputs": [],
   "source": [
    "import numpy as np\n",
    "from scipy.stats import multivariate_normal\n",
    "import numpy as np\n",
    "\n",
    "# Mean and covariance of the multivariate normal distribution\n",
    "mean = np.array([0, 0])\n",
    "cov = [[10, 9], [9, 10]]\n",
    "\n",
    "# Number of samples to generate\n",
    "num_samples = 100\n",
    "\n",
    "# Generate samples from the multivariate normal distribution\n",
    "samples = np.random.multivariate_normal(mean, cov, num_samples)\n",
    "\n",
    "# Number of samples to generate\n",
    "num_samples = 100\n",
    "\n",
    "# Generate samples from the multivariate normal distribution\n",
    "samples1 = np.random.multivariate_normal(mean+10*np.array([0,1]), cov, num_samples)"
   ]
  },
  {
   "cell_type": "code",
   "execution_count": 36,
   "id": "1d944b19",
   "metadata": {},
   "outputs": [
    {
     "data": {
      "text/plain": [
       "<matplotlib.collections.PathCollection at 0x7f9bb0043c70>"
      ]
     },
     "execution_count": 36,
     "metadata": {},
     "output_type": "execute_result"
    },
    {
     "data": {
      "image/png": "[encoded data removed]",
      "text/plain": [
       "<Figure size 640x480 with 1 Axes>"
      ]
     },
     "metadata": {},
     "output_type": "display_data"
    }
   ],
   "source": [
    "plt.scatter(samples[:,0],samples[:,1])\n",
    "plt.scatter(samples1[:,0],samples1[:,1])"
   ]
  },
  {
   "cell_type": "code",
   "execution_count": 50,
   "id": "77861f98",
   "metadata": {},
   "outputs": [
    {
     "name": "stdout",
     "output_type": "stream",
     "text": [
      "   mean_fit_time  std_fit_time  mean_score_time  std_score_time  \\\n",
      "0       0.054968      0.014935         0.003508        0.000040   \n",
      "1       0.047681      0.000212         0.003522        0.000027   \n",
      "2       0.047631      0.000242         0.003507        0.000034   \n",
      "3       0.047396      0.000256         0.003481        0.000010   \n",
      "\n",
      "  param_estimator__max_depth                       params  split0_test_score  \\\n",
      "0                          2  {'estimator__max_depth': 2}               0.80   \n",
      "1                          4  {'estimator__max_depth': 4}               0.95   \n",
      "2                          6  {'estimator__max_depth': 6}               0.95   \n",
      "3                          8  {'estimator__max_depth': 8}               0.95   \n",
      "\n",
      "   split1_test_score  split2_test_score  split3_test_score  split4_test_score  \\\n",
      "0                1.0               0.85                0.9                0.9   \n",
      "1                1.0               0.85                1.0                1.0   \n",
      "2                1.0               0.95                1.0                1.0   \n",
      "3                1.0               0.85                1.0                1.0   \n",
      "\n",
      "   mean_test_score  std_test_score  rank_test_score  \n",
      "0             0.89        0.066332                4  \n",
      "1             0.96        0.058310                2  \n",
      "2             0.98        0.024495                1  \n",
      "3             0.96        0.058310                2  \n"
     ]
    }
   ],
   "source": [
    "from sklearn.model_selection import GridSearchCV\n",
    "from sklearn.calibration import CalibratedClassifierCV\n",
    "from sklearn.ensemble import RandomForestClassifier\n",
    "from sklearn.datasets import make_moons\n",
    "import pandas as pd \n",
    "\n",
    "X, y = make_moons()\n",
    "calibrated_forest = CalibratedClassifierCV(\n",
    "   estimator=RandomForestClassifier(n_estimators=10))\n",
    "param_grid = {\n",
    "   'estimator__max_depth': [2, 4, 6, 8]}\n",
    "search = GridSearchCV(calibrated_forest, param_grid, cv=5)\n",
    "search.fit(X, y)\n",
    "\n",
    "results = pd.DataFrame.from_dict(search.cv_results_)\n",
    "print(results.head())\n",
    "\n",
    "x = np.arange(10)"
   ]
  },
  {
   "cell_type": "code",
   "execution_count": null,
   "id": "346a4693",
   "metadata": {},
   "outputs": [],
   "source": []
  },
  {
   "cell_type": "code",
   "execution_count": null,
   "id": "6184f95c",
   "metadata": {},
   "outputs": [],
   "source": []
  }
 ],
 "metadata": {
  "kernelspec": {
   "display_name": "Python 3 (ipykernel)",
   "language": "python",
   "name": "python3"
  },
  "language_info": {
   "codemirror_mode": {
    "name": "ipython",
    "version": 3
   },
   "file_extension": ".py",
   "mimetype": "text/x-python",
   "name": "python",
   "nbconvert_exporter": "python",
   "pygments_lexer": "ipython3",
   "version": "3.8.8"
  }
 },
 "nbformat": 4,
 "nbformat_minor": 5
}
