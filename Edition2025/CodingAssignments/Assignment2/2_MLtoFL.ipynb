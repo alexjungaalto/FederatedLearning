{
 "cells": [
  {
   "cell_type": "markdown",
   "id": "a8c542b7-5d83-44ff-abae-54c9ccaf4806",
   "metadata": {
    "deletable": false,
    "editable": false,
    "nbgrader": {
     "cell_type": "markdown",
     "checksum": "99c525d3caf3d5842597b8728d3916d4",
     "grade": false,
     "grade_id": "cell-f2e274ed102ca397",
     "locked": true,
     "schema_version": 3,
     "solution": false,
     "task": false
    },
    "tags": []
   },
   "source": [
    "## CS-E4740 - Federated Learning D (Spring 25)\n",
    "\n",
    "# Assignment 2: From ML To FL\n",
    "\n",
    "### R. Gafur, A. Jung\n",
    "\n",
    "<a id='varying_features'></a>\n",
    "<div class=\"alert alert-warning\">\n",
    "    <h2>Deadline: 17.03.2025</h2>\n",
    "</div>\n",
    "    \n",
    "<a id='varying_features'></a><div class=\"alert alert-info\">\n",
    "## Learning Goals:\n",
    "\n",
    "- Implement a federated learning (FL) network using the Python package `networkx`. \n",
    "- Analyze FL network via node degrees and Laplacian matrix.\n",
    "- Use data-driven constructions (\"graph learning\") for a FL network. \n",
    "- Implement a simple FL algorithm (local averaging) for a FL network. \n",
    "\n",
    "## Backround Material\n",
    "\n",
    "- Chapter 3,7 of [FLBook (PDF)](https://github.com/alexjungaalto/FederatedLearning/blob/main/material/FLBook.pdf)\n",
    "- optional: [networkx](TBD)\n",
    "</div>"
   ]
  },
  {
   "cell_type": "markdown",
   "id": "a81ed7b3-3b34-45b5-8157-6898fc0b3e1f",
   "metadata": {
    "deletable": false,
    "editable": false,
    "nbgrader": {
     "cell_type": "markdown",
     "checksum": "bce047a38b56b8103e368d8bc3712f28",
     "grade": false,
     "grade_id": "cell-244ba224c0be2634",
     "locked": true,
     "schema_version": 3,
     "solution": false,
     "task": false
    },
    "tags": []
   },
   "source": [
    "## Importing necessary libraries"
   ]
  },
  {
   "cell_type": "code",
   "execution_count": null,
   "id": "27be836c-eee8-444a-8c27-c02285895ffd",
   "metadata": {
    "deletable": false,
    "editable": false,
    "nbgrader": {
     "cell_type": "code",
     "checksum": "c113464812c3de9dba3b18689642a5b2",
     "grade": false,
     "grade_id": "cell-b66f971709d87b3f",
     "locked": true,
     "schema_version": 3,
     "solution": false,
     "task": false
    },
    "tags": []
   },
   "outputs": [],
   "source": [
    "\n",
    "import networkx as nx  # NetworkX: Used for creating and analyzing graphs and networks\n",
    "\n",
    "import numpy as np  # NumPy: Provides support for large, multi-dimensional arrays and mathematical operations\n",
    "\n",
    "import pandas as pd  # Pandas: Used for data manipulation and analysis, especially with tabular data\n",
    "\n",
    "import matplotlib.pyplot as plt  # Matplotlib: A plotting library for visualizing data\n",
    "\n",
    "from scipy.spatial import distance_matrix  # SciPy's spatial module: Computes pairwise distance matrices between points\n",
    "\n",
    "from scipy.linalg import eigh  # SciPy's linear algebra module: Computes eigenvalues and eigenvectors of symmetric matrices"
   ]
  },
  {
   "cell_type": "markdown",
   "id": "75174b66-af29-43ff-bee7-0519505153c4",
   "metadata": {
    "deletable": false,
    "editable": false,
    "nbgrader": {
     "cell_type": "markdown",
     "checksum": "4b45f90ad8d105b1c7496a1cc63cfa68",
     "grade": false,
     "grade_id": "cell-ca3a92be39602d8c",
     "locked": true,
     "schema_version": 3,
     "solution": false,
     "task": false
    },
    "tags": []
   },
   "source": [
    "## Generate FL Network with Random Data"
   ]
  },
  {
   "cell_type": "markdown",
   "id": "57699223-d766-464d-90c1-14e48042971a",
   "metadata": {
    "deletable": false,
    "editable": false,
    "nbgrader": {
     "cell_type": "markdown",
     "checksum": "da1ac8db783f27e1ab4adc421d011170",
     "grade": false,
     "grade_id": "cell-0f1edbc9bb6bb81f",
     "locked": true,
     "schema_version": 3,
     "solution": false,
     "task": false
    },
    "tags": []
   },
   "source": [
    "<a id='generate_fl_network'></a>\n",
    "<div class=\"alert alert-warning\">\n",
    "\n",
    "### 📌 TASK 2.1: Building a FL Network\n",
    "\n",
    "In this task you have to implement a function `generate_FL_network(n_stations)` that creates a federated learning (FL) \n",
    "network with a given number of nodes.\n",
    "\n",
    "The network should be characterized using a dataframe `station_data` containing metadata for the\n",
    "entire network. In particulat, the dataframe contains, for each node,\n",
    "  - Latitude (`latitude`) between 60 and 65 (randomly generated)\n",
    "  - Longitude (`longitude`) between 24 and 30 (randomly generated)\n",
    "  - Temperature statistics: `temperature_mean` between -10 and 20, and `temperature_std` between 1 and 5 (randomly generated)\n",
    "\n",
    "The network itself is stored as a `networkx.Graph()` with nodes having attributes\n",
    "  - `lat` which stores the latitude\n",
    "  - `lon` which stores the longitutde\n",
    " - `dataset` which stored a local dataset of 100 simulated temperature values drawn from a Gaussian distribution with the node's `temperature_mean` and `temperature_std` and add `latitude`, `longitude`, and a simulated dataset of 100 temperature values into each node\n",
    "\n",
    "The function shall return the generated graph (`G`) and the network metadata (`station_data`)\n",
    "\n",
    "</div>\n"
   ]
  },
  {
   "cell_type": "code",
   "execution_count": null,
   "id": "1f9922b8-8e36-43fd-b1a4-9b145744cec8",
   "metadata": {
    "deletable": false,
    "nbgrader": {
     "cell_type": "code",
     "checksum": "9f696287dded75cbb76233a03035585f",
     "grade": false,
     "grade_id": "cell-0e4e1d63a4ff8262",
     "locked": false,
     "schema_version": 3,
     "solution": true,
     "task": false
    },
    "tags": []
   },
   "outputs": [],
   "source": [
    "def generate_FL_network(n_stations):\n",
    "    \"\"\"\n",
    "    Generates a federated learning (FL) network with `n_stations` nodes, \n",
    "    where each node represents an FMI station with a local dataset.\n",
    "    \"\"\"\n",
    "    \n",
    "    # Set random seed for reproducibility\n",
    "    np.random.seed(42)\n",
    "    \n",
    "    # Generate random metadata for each station (latitude, longitude, temperature stats)\n",
    "    station_data = pd.DataFrame({\n",
    "        \"latitude\": np.random.uniform(60, 65, n_stations),\n",
    "        \"longitude\": np.random.uniform(24, 30, n_stations),\n",
    "        \"temperature_mean\": np.random.uniform(-10, 20, n_stations),\n",
    "        \"temperature_std\": np.random.uniform(1, 5, n_stations)\n",
    "    })\n",
    "\n",
    "    # Initialize an empty graph\n",
    "    G = nx.Graph()\n",
    "    \n",
    "    # Add nodes to the graph, each carrying a local dataset\n",
    "    for idx, row in station_data.iterrows():\n",
    "        \n",
    "        ### TASK HINTS ###\n",
    "        # local_dataset = Simulate a dataset of 100 temperature values with Gaussian distribution\n",
    "        # G.add_node(...) Each node contains latitude, longitude, and a simulated dataset of 100 temperature values\n",
    "        \n",
    "        # YOUR CODE HERE\n",
    "        raise NotImplementedError()\n",
    "\n",
    "    return G, station_data\n",
    "\n",
    "n_stations = 10\n",
    "G_geo, geo_station_data = generate_FL_network(n_stations)\n",
    "G_stat, stat_station_data = generate_FL_network(n_stations)"
   ]
  },
  {
   "cell_type": "code",
   "execution_count": null,
   "id": "a96d7068-05a2-4776-a27f-969b96944fe7",
   "metadata": {
    "deletable": false,
    "editable": false,
    "nbgrader": {
     "cell_type": "code",
     "checksum": "8373e0f994f8708116786b91eb78b249",
     "grade": true,
     "grade_id": "cell-8a4b9258a06dd57e",
     "locked": true,
     "points": 3,
     "schema_version": 3,
     "solution": false,
     "task": false
    },
    "tags": []
   },
   "outputs": [],
   "source": [
    "# Sanity checks\n",
    "\n",
    "# Test that the graph has the correct number of nodes\n",
    "assert len(G_geo.nodes) == 10, \"Number of nodes in the FL network is incorrect\"\n",
    "assert len(G_stat.nodes) == 10, \"Number of nodes in the FL network is incorrect\"\n",
    "\n",
    "print('Sanity check passed!')\n"
   ]
  },
  {
   "cell_type": "markdown",
   "id": "47e84d90-ee9d-406d-abb6-2e79f6100714",
   "metadata": {
    "deletable": false,
    "editable": false,
    "nbgrader": {
     "cell_type": "markdown",
     "checksum": "457e1326ae891feeb17e810884cd4d33",
     "grade": false,
     "grade_id": "cell-e848c557b65a0d07",
     "locked": true,
     "schema_version": 3,
     "solution": false,
     "task": false
    },
    "tags": []
   },
   "source": [
    "<a id='construct_edges'></a>\n",
    "<div class=\"alert alert-warning\">\n",
    "\n",
    "### 📌 TASK 2.2: Construct Edges in the FL Network\n",
    "\n",
    "Your goal is to implement a function `construct_edges(G, station_data, method)` that constructs edges in the **Federated Learning (FL) network graph** based on different distance metrics. This function will **add edges** to a given FL network graph (`G`), passed as input parameter. \n",
    "\n",
    "### **Parameters**\n",
    "- **`G`** (`networkx.Graph`): An **undirected graph** representing the FL network. The function should **modify** `G` by adding edges.\n",
    "  \n",
    "- **`station_data`** (`pd.DataFrame`): A **DataFrame** containing node attributes, including geographical and statistical features.\n",
    "\n",
    "- **`method`** (`str`): A string that indicates how to compute distances between nodes. Supported values:\n",
    "  - **`'geo'`**: Uses **latitude** and **longitude** to compute geographical distances.\n",
    "  - **`'stat'`**: Uses **temperature_mean** and **temperature_std** to compute statistical distances.\n",
    "\n",
    "### **Behavior**\n",
    "For each node in the network:\n",
    "1. **Determine its five nearest neighbors** based on distance computations.\n",
    "2. **Compute the pairwise distance matrix** using `distance_matrix(coords, coords)`, where `coords` is derived as follows:\n",
    "   - **If `method='geo'`**: `coords` consists of **latitude** and **longitude** as a length-2 vector.\n",
    "   - **If `method='stat'`**: `coords` consists of **temperature_mean** and **temperature_std** as a length-2 vector.\n",
    "3. **Add edges** to the **five nearest neighbors** of each node.\n",
    "\n",
    "### **Notes**\n",
    "- This function **modifies the input graph `G` in place**; no new graph is created or returned.\n",
    "- The distance matrix is computed using `distance_matrix(coords, coords)`, ensuring efficient pairwise distance calculations.\n",
    "</div>"
   ]
  },
  {
   "cell_type": "code",
   "execution_count": null,
   "id": "2ef7acbf-9102-4a51-9110-dc9cc70a0231",
   "metadata": {
    "deletable": false,
    "nbgrader": {
     "cell_type": "code",
     "checksum": "d7ec515efedc59d6dc92c97de29d314b",
     "grade": false,
     "grade_id": "cell-f09a1ba41720a9b1",
     "locked": false,
     "schema_version": 3,
     "solution": true,
     "task": false
    },
    "tags": []
   },
   "outputs": [],
   "source": [
    "def construct_edges(G, station_data, method):\n",
    "    \"\"\"\n",
    "    Constructs edges in the graph by connecting each node to its 5 nearest neighbors.\n",
    "    Two methods are supported:\n",
    "    - 'geo': Uses latitude and longitude to compute distances.\n",
    "    - 'stat': Uses temperature mean and standard deviation to compute distances.\n",
    "    \"\"\"\n",
    "    \n",
    "    n = len(G.nodes)\n",
    "\n",
    "    # Initialize coords as a NumPy array with the correct shape\n",
    "    coords = np.zeros((n, 2))  # Two features per node\n",
    "    \n",
    "    # Select the representation vector based on the chosen method\n",
    "    if method == 'geo':\n",
    "        ### TASK ###\n",
    "        # Use geographical coordinates\n",
    "        #coords = \n",
    "        \n",
    "        # YOUR CODE HERE\n",
    "        raise NotImplementedError()\n",
    "    else:\n",
    "        ### TASK ###\n",
    "        # Use statistical temperature features\n",
    "        # coords = \n",
    "        \n",
    "        # YOUR CODE HERE\n",
    "        raise NotImplementedError()\n",
    "\n",
    "    # Compute pairwise distances between all nodes\n",
    "    dist_matrix = distance_matrix(coords, coords)\n",
    "\n",
    "    for i in range(n):\n",
    "        ### TASK ###\n",
    "        # Exclude the node itself and take the 5 closest nodes and add an edge with distance as weight\n",
    "        # nearest_neighbors = \n",
    "        # for j in nearest_neighbors:\n",
    "            # G.add_edge(...)\n",
    "        \n",
    "        \n",
    "        # YOUR CODE HERE\n",
    "        raise NotImplementedError()\n",
    "\n",
    "    return G\n",
    "\n",
    "G_geo = construct_edges(G_geo, geo_station_data, method='geo')\n",
    "G_stat = construct_edges(G_stat, stat_station_data, method='stat')"
   ]
  },
  {
   "cell_type": "code",
   "execution_count": null,
   "id": "09bcdf11-4e73-4491-a066-db00a5481f11",
   "metadata": {
    "deletable": false,
    "editable": false,
    "nbgrader": {
     "cell_type": "code",
     "checksum": "f4a6bddccd70d75c3329aebfbfecb9a6",
     "grade": true,
     "grade_id": "cell-953475e8f2b1686a",
     "locked": true,
     "points": 2,
     "schema_version": 3,
     "solution": false,
     "task": false
    },
    "tags": []
   },
   "outputs": [],
   "source": [
    "# Sanity checks\n",
    "\n",
    "# Each node should have minimum 5 neighbors\n",
    "for i in G_geo.nodes():\n",
    "    assert len(list(G_geo.neighbors(i))) >= 5, f\"Node {i} does not have 5 neighbors\"\n",
    "\n",
    "print('Sanity check passed!')\n"
   ]
  },
  {
   "cell_type": "markdown",
   "id": "0b04903a-e37a-449b-930c-19e95d4a9d2e",
   "metadata": {
    "deletable": false,
    "editable": false,
    "nbgrader": {
     "cell_type": "markdown",
     "checksum": "e23238746f301488b2088d799078e842",
     "grade": false,
     "grade_id": "cell-8e7f43660969238e",
     "locked": true,
     "schema_version": 3,
     "solution": false,
     "task": false
    },
    "tags": []
   },
   "source": [
    "<a id='network_visualization'></a>\n",
    "<div class=\"alert alert-info\">\n",
    "\n",
    "### Visualizing the FL Network with edges\n",
    "\n",
    "Since we have generated the edges, now we can visualize the two networks — **Geo Network** and **Stat Network** — with a unified layout for easy comparison:\n",
    "\n",
    "- **Node Relabeling**:  \n",
    "  Both networks are updated so that node labels start from 1 instead of 0. This adjustment makes the node indexing more intuitive.\n",
    "\n",
    "- **Common Position Dictionary**:  \n",
    "  A position mapping is defined using geographical coordinates (longitude and latitude) from the station data. This ensures that the same node (e.g., node 1, node 2, etc.) appears at identical positions in both visualizations.\n",
    "\n",
    "- **Plotting Setup**:  \n",
    "  A single figure with two side-by-side subplots is created.  \n",
    "  - The **Geo Network** is drawn on the left subplot using the edges of **G_geo**  \n",
    "  - The **Stat Network** is drawn on the right subplot using the edged of **G_stat**  \n",
    "\n",
    "</div>"
   ]
  },
  {
   "cell_type": "code",
   "execution_count": null,
   "id": "1724d970-9196-4675-8e60-a1e8847dd80e",
   "metadata": {
    "deletable": false,
    "editable": false,
    "nbgrader": {
     "cell_type": "code",
     "checksum": "5066162564d7e3b0e2d6f7b46e6064b1",
     "grade": false,
     "grade_id": "cell-e97eaf21f8ee6058",
     "locked": true,
     "schema_version": 3,
     "solution": false,
     "task": false
    },
    "tags": []
   },
   "outputs": [],
   "source": [
    "# Relabel nodes for both networks so that they start from 1 instead of 0\n",
    "G_geo_relabel = nx.relabel_nodes(G_geo, {i: i+1 for i in G_geo.nodes()})\n",
    "G_stat_relabel = nx.relabel_nodes(G_stat, {i: i+1 for i in G_stat.nodes()})\n",
    "\n",
    "# Define a common position dictionary based on geo coordinates\n",
    "# This ensures that node 1, node 2, etc. appear at the same locations in both visualizations\n",
    "common_pos = {i+1: (geo_station_data.loc[i, \"longitude\"], geo_station_data.loc[i, \"latitude\"]) \n",
    "              for i in range(len(geo_station_data))}\n",
    "\n",
    "# Create a figure with two subplots\n",
    "fig, (ax1, ax2) = plt.subplots(1, 2, figsize=(12, 6))\n",
    "\n",
    "# Plot Geo network using the common layout\n",
    "nx.draw(G_geo_relabel, pos=common_pos, ax=ax1, with_labels=True, node_color='lightblue', edge_color='gray')\n",
    "ax1.set_title(\"Geo Network\")\n",
    "ax1.set_xlabel(\"Longitude\")\n",
    "ax1.set_ylabel(\"Latitude\")\n",
    "\n",
    "# Plot Stat network using the same common layout\n",
    "nx.draw(G_stat_relabel, pos=common_pos, ax=ax2, with_labels=True, node_color='lightgreen', edge_color='gray')\n",
    "ax2.set_title(\"Stat Network\")\n",
    "ax2.set_xlabel(\"Longitude\")\n",
    "ax2.set_ylabel(\"Latitude\")\n",
    "\n",
    "plt.tight_layout()\n",
    "plt.show()"
   ]
  },
  {
   "cell_type": "markdown",
   "id": "ed1cd1f0-2e48-4861-9723-0ec87b2a14b8",
   "metadata": {
    "deletable": false,
    "editable": false,
    "nbgrader": {
     "cell_type": "markdown",
     "checksum": "90bb9c37fee0deeccd5e0233209eecc2",
     "grade": false,
     "grade_id": "cell-1deab939276242ef",
     "locked": true,
     "schema_version": 3,
     "solution": false,
     "task": false
    },
    "tags": []
   },
   "source": [
    "<a id='construct_edges'></a>\n",
    "<div class=\"alert alert-warning\">\n",
    "    \n",
    "### **📌 TASK 2.3: Analyze Federated Learning (FL) Network Connectivity**\n",
    "\n",
    "Your task is to implement the function **`analyze_network(G)`** to analyze the connectivity of a given **Federated Learning (FL) network graph** `G`. This function will provide insights into the network structure by computing and visualizing key connectivity properties.\n",
    "\n",
    "---\n",
    "\n",
    "#### Compute and Plot Node Degrees\n",
    "- Calculate the **degree** of each node (i.e., the number of connections).  \n",
    "- Create a **bar plot** displaying the node degrees.  \n",
    "\n",
    "#### Compute the Laplacian Matrix\n",
    "- Compute the **Laplacian matrix** `L` of the graph.\n",
    "- Convert `L` to an array format using `.toarray()` if necessary.\n",
    "\n",
    "#### Analyze Eigenvalues and Eigenvectors\n",
    "- Compute the **eigenvalues** and **eigenvectors** of `L`.\n",
    "- Identify the **second smallest eigenvalue** (also known as the **algebraic connectivity**) and a corresponding eigenvector (**Fiedler vector**).\n",
    "- Plot this **eigenvector** to visualize network connectivity.\n",
    "\n",
    "---\n",
    "\n",
    "### Hints\n",
    "- The **Laplacian matrix** can be obtained using `nx.laplacian_matrix(G)`.  \n",
    "- Convert the matrix to an array using `.toarray()` if needed.  \n",
    "- The **second smallest eigenvalue** of the Laplacian matrix provides insights into the network’s connectivity structure.  \n",
    "- The **Fiedler vector** is useful for community detection and clustering within the network.\n",
    "\n",
    "\n",
    "</div>"
   ]
  },
  {
   "cell_type": "code",
   "execution_count": null,
   "id": "0f77b1b9-f117-4e98-9725-56baab84f25d",
   "metadata": {
    "deletable": false,
    "nbgrader": {
     "cell_type": "code",
     "checksum": "4d838c2355bb7f8d3dcc8454ae6adb48",
     "grade": false,
     "grade_id": "cell-5721333a2a542d82",
     "locked": false,
     "schema_version": 3,
     "solution": true,
     "task": false
    },
    "tags": []
   },
   "outputs": [],
   "source": [
    "def analyze_network(G):\n",
    "    \"\"\"\n",
    "    Analyzes the connectivity of the FL network by:\n",
    "    - Plotting node degrees.\n",
    "    - Computing and plotting the eigenvector corresponding to the second smallest eigenvalue of the Laplacian matrix.\n",
    "    \"\"\"\n",
    "    \n",
    "    degrees = [G.degree(n) for n in G.nodes()]\n",
    "    \n",
    "    # Compute Laplacian matrix\n",
    "    # L = \n",
    "    \n",
    "    # YOUR CODE HERE\n",
    "    raise NotImplementedError()\n",
    "    \n",
    "    # Compute eigenvalues and eigenvectors\n",
    "    # eigvals, eigvecs = \n",
    "    \n",
    "    # YOUR CODE HERE\n",
    "    raise NotImplementedError()\n",
    "\n",
    "    if len(eigvals) > 1:\n",
    "        # Second smallest eigenvalue and corresponding eigenvector\n",
    "        v2 = eigvecs[:, 1]\n",
    "\n",
    "        # Plot node degrees\n",
    "        plt.figure(figsize=(10, 5))\n",
    "        plt.bar(range(1, len(degrees) + 1), degrees)\n",
    "        plt.xlabel(\"Node Index\")\n",
    "        plt.ylabel(\"Degree\")\n",
    "        plt.title(\"Node Degrees\")\n",
    "        plt.show()\n",
    "\n",
    "        # Plot eigenvector entries\n",
    "        plt.figure(figsize=(10, 5))\n",
    "        plt.plot(range(1, len(v2) + 1), v2, marker=\"o\")\n",
    "        plt.xlabel(\"Node Index\")\n",
    "        plt.ylabel(\"Eigenvector Entry\")\n",
    "        plt.title(\"Fiedler Eigenvector\")\n",
    "        plt.show()\n",
    "    else:\n",
    "        print(\"Not enough connected nodes to compute the second smallest eigenvalue.\")\n"
   ]
  },
  {
   "cell_type": "code",
   "execution_count": null,
   "id": "a4afb5d8-8985-46d7-bca2-cf2c4f7f9520",
   "metadata": {
    "deletable": false,
    "editable": false,
    "nbgrader": {
     "cell_type": "code",
     "checksum": "c5d8d56d4c3b0ebb252ea917a60e46d8",
     "grade": false,
     "grade_id": "cell-92adc11d23689b64",
     "locked": true,
     "schema_version": 3,
     "solution": false,
     "task": false
    },
    "tags": []
   },
   "outputs": [],
   "source": [
    "print(\"Analyzing network structure for geo-based graph:\")\n",
    "analyze_network(G_geo)"
   ]
  },
  {
   "cell_type": "code",
   "execution_count": null,
   "id": "275dbc31-3457-4d10-aeb3-d6c7d5d99f7d",
   "metadata": {
    "deletable": false,
    "editable": false,
    "nbgrader": {
     "cell_type": "code",
     "checksum": "59f049ec1526f84ed43de0b75099320e",
     "grade": false,
     "grade_id": "cell-68131c18e80617f9",
     "locked": true,
     "schema_version": 3,
     "solution": false,
     "task": false
    },
    "tags": []
   },
   "outputs": [],
   "source": [
    "print(\"Analyzing network structure for statistics-based graph:\")\n",
    "analyze_network(G_stat)"
   ]
  },
  {
   "cell_type": "markdown",
   "id": "78967f62-da37-4eae-8285-546f59cc09a9",
   "metadata": {
    "deletable": false,
    "editable": false,
    "nbgrader": {
     "cell_type": "markdown",
     "checksum": "43d5ba46089fb120abe5187bcd4b04f1",
     "grade": false,
     "grade_id": "cell-535ec7c7286c506f",
     "locked": true,
     "schema_version": 3,
     "solution": false,
     "task": false
    },
    "tags": []
   },
   "source": [
    "## Local Averaging FL"
   ]
  },
  {
   "cell_type": "markdown",
   "id": "3a1ac50c-1981-4200-a1ce-e596b734051d",
   "metadata": {
    "deletable": false,
    "editable": false,
    "nbgrader": {
     "cell_type": "markdown",
     "checksum": "44efe4dbba6cbf5ef36058698c21b211",
     "grade": false,
     "grade_id": "cell-7ead8664edd248a6",
     "locked": true,
     "schema_version": 3,
     "solution": false,
     "task": false
    }
   },
   "source": [
    "<a id='local_averaging'></a>\n",
    "<div class=\"alert alert-warning\">\n",
    "\n",
    "### 📌 TASK 2.4: Local Averaging for Federated Learning\n",
    "Your task is to implement the function **`local_averaging(G)`**, which simulates a simple federated learning algorithm over a **FL network** that is provided as input`G` (`networkx.Graph`). This function will estimate node-level temperatures using local neighbor data and evaluate the **prediction error**.\n",
    "\n",
    "For each node in the graph:\n",
    "- **Predict the average temperature** by computing the mean temperature of its neighbors’ datasets.\n",
    "- If a node **has no neighbors**, use its own dataset’s average as the prediction.\n",
    "- **Compute the actual average temperature** for the node.\n",
    "- **Calculate the prediction error** as the difference between the predicted and actual average temperatures.\n",
    "- **Store the error** in a dictionary `prediction_errors` with the node index as the key.\n",
    "- The function should return the dictionary `prediction_errors`.\n",
    "\n",
    "Use `local_averaging()` to compute **prediction errors** for both:\n",
    "  - **Geo-based network (`G_geo`)**\n",
    "  - **Stat-based network (`G_stat`)**\n",
    "\n",
    "###  Format the Results in a DataFrame\n",
    "- Construct a Pandas DataFrame with the following columns:\n",
    "  - `\"Geo-Based Error\"` → Prediction errors from `G_geo`\n",
    "  - `\"Stat-Based Error\"` → Prediction errors from `G_stat`\n",
    "- Print the DataFrame to display the results.\n",
    "\n",
    "### Hints\n",
    "- **Loop through all nodes** in the graph to calculate predicted and actual temperatures.  \n",
    "- **Retrieve neighbors** using `G.neighbors(node)`.  \n",
    "- **Compute predicted temperature**: If the node **has neighbors**, use the mean temperature of all neighbors' datasets. If the node **has no neighbors**, use the node’s own dataset mean.  \n",
    "- **Compute the prediction error** `prediction_error = predicted_temperature - actual_temperature`"
   ]
  },
  {
   "cell_type": "code",
   "execution_count": null,
   "id": "a3b0cb9b-9a60-4a1e-a5b7-74090ad3519e",
   "metadata": {
    "deletable": false,
    "nbgrader": {
     "cell_type": "code",
     "checksum": "1483357cded6ee19a735b0a416d30c3c",
     "grade": false,
     "grade_id": "cell-a96767d549efce2f",
     "locked": false,
     "schema_version": 3,
     "solution": true,
     "task": false
    },
    "tags": []
   },
   "outputs": [],
   "source": [
    "def local_averaging(G):\n",
    "    \"\"\"\n",
    "    Implements a simple federated learning algorithm for a FL network represtend by the input `G` which is a `netwworkx.Graph()`object. \n",
    "    Each node predicts temperature by averaging the local datasets of its neighbors. Computes the actual average temperature for \n",
    "    each node. Computes and stores the prediction error for each node.\n",
    "\n",
    "    Parameters:\n",
    "    G (networkx.Graph): The FL network graph where each node has a 'dataset' attribute.\n",
    "\n",
    "    Returns:\n",
    "    dict: A dictionary where keys are node IDs and values are prediction errors.\n",
    "    \"\"\"\n",
    "    \n",
    "    # Initialize dictionary to store prediction errors\n",
    "    prediction_errors = {}\n",
    "    \n",
    "    # Predict average and compute the prediction error\n",
    "    # for i in G.nodes():\n",
    "        # ...\n",
    "        # ...\n",
    "        # ...\n",
    "    # return prediction_errors\n",
    "    \n",
    "    # YOUR CODE HERE\n",
    "    raise NotImplementedError()\n",
    "\n",
    "# Compute prediction errors for both networks\n",
    "prediction_errors_geo = local_averaging(G_geo)\n",
    "prediction_errors_stat = local_averaging(G_stat)\n",
    "\n",
    "# Convert results to a DataFrame for better visualization\n",
    "results_df = pd.DataFrame({\n",
    "    \"Geo-Based Error\": list(prediction_errors_geo.values()),\n",
    "    \"Stat-Based Error\": list(prediction_errors_stat.values())\n",
    "}, index=list(G_geo.nodes()))\n",
    "\n",
    "# Display the results\n",
    "print(results_df)"
   ]
  },
  {
   "cell_type": "code",
   "execution_count": null,
   "id": "51e308fa-0736-4d86-89f8-93ed2500379d",
   "metadata": {
    "deletable": false,
    "editable": false,
    "nbgrader": {
     "cell_type": "code",
     "checksum": "d5445b9ad848770e9e70d2c75ec6f591",
     "grade": true,
     "grade_id": "cell-8a49ae0fe10da3f4",
     "locked": true,
     "points": 2,
     "schema_version": 3,
     "solution": false,
     "task": false
    },
    "tags": []
   },
   "outputs": [],
   "source": [
    "# Sanity checks\n",
    "\n",
    "# Ensure every node has a prediction error\n",
    "assert len(local_averaging(G_geo)) == 10, \"Prediction error missing for some nodes\"\n",
    "assert len(local_averaging(G_stat)) == 10, \"Prediction error missing for some nodes\"\n",
    "\n",
    "print('Sanity check passed!')\n"
   ]
  }
 ],
 "metadata": {
  "kernelspec": {
   "display_name": "Python 3",
   "language": "python",
   "name": "python3"
  },
  "language_info": {
   "codemirror_mode": {
    "name": "ipython",
    "version": 3
   },
   "file_extension": ".py",
   "mimetype": "text/x-python",
   "name": "python",
   "nbconvert_exporter": "python",
   "pygments_lexer": "ipython3",
   "version": "3.10.12"
  }
 },
 "nbformat": 4,
 "nbformat_minor": 5
}
